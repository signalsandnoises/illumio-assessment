{
 "cells": [
  {
   "cell_type": "markdown",
   "id": "718ef33b-84b6-4de2-8024-7e60f6a8ca7f",
   "metadata": {},
   "source": [
    "# Illumio Technical Assessment\n",
    "\n",
    "#### August 26, 2024\n",
    "\n",
    "#### Candidate: Rishabh Verma\n",
    "\n",
    "#### Recruiter: Tyler DeShazer\n",
    "\n",
    "## Task\n",
    "\n",
    "Write a program that can parse a file containing flow log data and maps each row to a tag based on a lookup table. The lookup table is defined as a csv file, and it has 3 columns, dstport,protocol,tag.   The dstport and protocol combination decide what tag can be applied.\n",
    "\n",
    "The program should generate an output file containing the following: \n",
    "\n",
    "* Count of matches for each tag\n",
    "* Count of matches for each port/protocol combination\n",
    "\n",
    "Requirements:\n",
    "\n",
    "* Input file as well as the file containing tag mappings are plain text (ascii) files\n",
    "* The flow log file size can be up to 10 MB\n",
    "* The lookup file can have up to 10000 mappings\n",
    "* The tags can map to more than one port, protocol combinations.\n",
    "* The matches should be case insensitive\n",
    "* Avoid using non-default libraries or packages like Hadoop, spark, pandas etc\n",
    "* Include instructions on how to compile/run the program, what tests were done, and any other analysis you may want to share\n",
    "* The submission should come with a readme with info on all the assumptions made"
   ]
  },
  {
   "cell_type": "markdown",
   "id": "40649a76-ba51-42f5-b311-35c4f07fcba4",
   "metadata": {},
   "source": [
    "## 0. README\n",
    "\n",
    "This challenge was completed using Python 3 in a Jupyter notebook. Output files were generated and committed. For easy verification, you can run `demo.py` with any Python 3.X interpreter; it contains all the same code in the Jupyter notebook.\n",
    "\n",
    "Assumptions made:\n",
    "* The only protocol codes we expect to see are the first 146. The code can easily be modified to accomodate all 255 possible values.\n",
    "* The lookup table only contains up to 10,000 mappings of <16 characters, and can be encoded using 8-bit ASCII, so it can easily sit in memory in <2MB.\n",
    "  \n",
    "\n",
    "Tests performed:\n",
    "* Just reading from the data given in CSV form and stripping whitespace!\n",
    "\n",
    "Analysis:\n",
    "* All mappings are performed using O(1) operations. All input files are parsed once-over. The full program runs in optimal O(n) time complexity, using O(1) additional space complexity."
   ]
  },
  {
   "cell_type": "markdown",
   "id": "512eccf6-4d0d-430d-a668-49c2b2327882",
   "metadata": {},
   "source": [
    "## 1. Load the mapping data\n",
    "\n",
    "I started by downloading the [official protocols csv](https://www.iana.org/assignments/protocol-numbers/protocol-numbers.xhtml) and using regex/Sublime to clean up the file so it only contains the decimal and keyword for the 146 assigned protocols.\n",
    "\n",
    "Now, I could load this in as a list or as a map. A map offers easier maintenance for future development, but a list has a lower memory footprint (of constant-order, so it's not a big deal). I went with a list."
   ]
  },
  {
   "cell_type": "code",
   "execution_count": 7,
   "id": "23f8c5fe-0328-4f7f-99bd-3493ba9ef153",
   "metadata": {},
   "outputs": [
    {
     "name": "stdout",
     "output_type": "stream",
     "text": [
      "A few key-value pairs from the protocols map:\n"
     ]
    },
    {
     "data": {
      "text/plain": [
       "{'0': 'hopopt',\n",
       " '1': 'icmp',\n",
       " '2': 'igmp',\n",
       " '3': 'ggp',\n",
       " '4': 'ipv4',\n",
       " '5': 'st',\n",
       " '6': 'tcp'}"
      ]
     },
     "execution_count": 7,
     "metadata": {},
     "output_type": "execute_result"
    }
   ],
   "source": [
    "protocols = {}\n",
    "\n",
    "with open(\"protocols.csv\", \"r\") as file:\n",
    "    for i, line in enumerate(file):\n",
    "        protocols[str(i)] = line.strip().split(',')[1].lower()\n",
    "        # We're using str(i) as the key because that's how it's represented in the flow log\n",
    "\n",
    "print(\"A few key-value pairs from the protocols map:\")\n",
    "{str(i): protocols[str(i)] for i in range(7)}"
   ]
  },
  {
   "cell_type": "markdown",
   "id": "65f4537b-51ee-4fd0-bf6e-98cc918d7167",
   "metadata": {},
   "source": [
    "The lookup table can have up to 10000 mappings, so it'll sit in-memory just fine as a map (dictionary), where the first two values form a key."
   ]
  },
  {
   "cell_type": "code",
   "execution_count": 20,
   "id": "e2b1f9e9-f37a-415a-94e7-47bc030e24dd",
   "metadata": {},
   "outputs": [
    {
     "name": "stdout",
     "output_type": "stream",
     "text": [
      "lookup: {'25,tcp': 'sv_p1', '68,udp': 'sv_p2', '23,tcp': 'sv_p1', '31,udp': 'sv_p3', '443,tcp': 'sv_p2', '22,tcp': 'sv_p4', '3389,tcp': 'sv_p5', '0,icmp': 'sv_p5', '110,tcp': 'email', '993,tcp': 'email', '143,tcp': 'email'}\n",
      "\n"
     ]
    }
   ],
   "source": [
    "lookup = dict()\n",
    "\n",
    "with open(\"input_lookup.csv\", \"r\") as file:\n",
    "    file.readline() # skip the first line\n",
    "    for i, line in enumerate(file):\n",
    "        contents = line.split(\",\")\n",
    "        port_protocol = \",\".join(contents[:2])\n",
    "        tag = contents[2].strip().lower()\n",
    "        \n",
    "        lookup[port_protocol] = tag\n",
    "\n",
    "print(f\"lookup: {lookup}\\n\")"
   ]
  },
  {
   "cell_type": "markdown",
   "id": "f7373632-2c35-4e95-8153-c4acc8d354c1",
   "metadata": {},
   "source": [
    "## 2. Parse and map the flow log"
   ]
  },
  {
   "cell_type": "code",
   "execution_count": 30,
   "id": "afc2db4c-9d15-4742-a67a-95bdb03bc80d",
   "metadata": {},
   "outputs": [
    {
     "name": "stdout",
     "output_type": "stream",
     "text": [
      "Our computational results:\n",
      "\n",
      "count_tags: {'sv_p1': 2, 'sv_p2': 1, 'sv_p3': 0, 'sv_p4': 0, 'sv_p5': 0, 'email': 3, 'Untagged': 8}\n",
      "\n",
      "count_port_protocols: defaultdict(<class 'int'>, {'49153,tcp': 1, '49154,tcp': 1, '49155,tcp': 1, '49156,tcp': 1, '49157,tcp': 1, '49158,tcp': 1, '80,tcp': 1, '1024,tcp': 1, '443,tcp': 1, '23,tcp': 1, '25,tcp': 1, '110,tcp': 1, '993,tcp': 1, '143,tcp': 1})\n",
      "\n"
     ]
    }
   ],
   "source": [
    "from collections import defaultdict\n",
    "\n",
    "count_port_protocols = defaultdict(int)\n",
    "count_tags = {tag: 0 for tag in lookup.values()}\n",
    "count_tags[\"Untagged\"] = 0\n",
    "\n",
    "with open(\"input_flowlog.txt\", \"r\") as file:\n",
    "    for line in file:\n",
    "        # Get the port_protocol\n",
    "        contents = line.split()\n",
    "        port_protocol = \",\".join((contents[6], protocols[contents[7]]))\n",
    "        \n",
    "        # Count the port_protocol\n",
    "        count_port_protocols[port_protocol] += 1\n",
    "\n",
    "        # Get and count the tag\n",
    "        if port_protocol in lookup:\n",
    "            tag = lookup[port_protocol]\n",
    "            count_tags[tag] = count_tags[tag] + 1\n",
    "        else:\n",
    "            count_tags[\"Untagged\"] += 1\n",
    "\n",
    "print(\"Our computational results:\\n\")\n",
    "print(f\"count_tags: {count_tags}\\n\")\n",
    "print(f\"count_port_protocols: {str(count_port_protocols)}\\n\")"
   ]
  },
  {
   "cell_type": "markdown",
   "id": "93dac7ea-b038-40d4-aeeb-f899c4c24bbc",
   "metadata": {},
   "source": [
    "## 3. Format and write the data\n",
    "\n",
    "At this point, we've done all the actual computation we need! I'm just going to write these count dictionaries to output files."
   ]
  },
  {
   "cell_type": "code",
   "execution_count": 5,
   "id": "ca71c70b-d85b-4bfa-9aa9-94c796e4d9b7",
   "metadata": {},
   "outputs": [],
   "source": [
    "with open(\"output_tag_counts.csv\", \"w\") as file:\n",
    "    file.write('Tag,Count\\n')\n",
    "    for key, value in count_tags.items():\n",
    "        file.write(f'{key},{value}\\n')\n",
    "\n",
    "with open(\"output_port_protocol_combination_counts.csv\", \"w\") as file:\n",
    "    file.write('Port,Protocol,Count\\n')\n",
    "    for key, value in count_port_protocols.items():\n",
    "        file.write(f'{key},{value}\\n')"
   ]
  }
 ],
 "metadata": {
  "kernelspec": {
   "display_name": "Python 3 (ipykernel)",
   "language": "python",
   "name": "python3"
  },
  "language_info": {
   "codemirror_mode": {
    "name": "ipython",
    "version": 3
   },
   "file_extension": ".py",
   "mimetype": "text/x-python",
   "name": "python",
   "nbconvert_exporter": "python",
   "pygments_lexer": "ipython3",
   "version": "3.12.1"
  }
 },
 "nbformat": 4,
 "nbformat_minor": 5
}
